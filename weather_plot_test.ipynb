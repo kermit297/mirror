{
 "cells": [
  {
   "cell_type": "code",
   "execution_count": 498,
   "metadata": {},
   "outputs": [],
   "source": [
    "import numpy as np\n",
    "import matplotlib.pyplot as plt\n",
    "import matplotlib as mpl\n",
    "import matplotlib.dates as mdates\n",
    "import matplotlib.patches as ptch\n",
    "%matplotlib inline\n",
    "plt.rcParams['figure.figsize'] = [15, 5]\n",
    "from datetime import datetime\n",
    "import urllib.request\n",
    "import json\n",
    "import matplotlib.pyplot as plt\n",
    "import matplotlib.patches as patches\n",
    "import matplotlib.cm as cm\n",
    "from datetime import timedelta, datetime\n",
    "from matplotlib.colors import Normalize\n",
    "import matplotlib.dates as mdates\n",
    "import locale"
   ]
  },
  {
   "cell_type": "code",
   "execution_count": 499,
   "metadata": {},
   "outputs": [],
   "source": [
    "with open('config.json') as data_file:\n",
    "            config = json.load(data_file)\n",
    "dsn_api_key = config['dsn_api_key']"
   ]
  },
  {
   "cell_type": "code",
   "execution_count": 500,
   "metadata": {},
   "outputs": [],
   "source": [
    "url = \"https://api.darksky.net/forecast/{}/52.200521,20.963080?lang=pl&units=si\".format(dsn_api_key)\n",
    "html = urllib.request.urlopen(url).read()\n",
    "forecast = json.loads(html.decode('utf-8'))"
   ]
  },
  {
   "cell_type": "code",
   "execution_count": 501,
   "metadata": {},
   "outputs": [],
   "source": [
    "dttm = list()\n",
    "temp = list()\n",
    "cloud = list()\n",
    "precip = list()\n",
    "precip_p = list()\n",
    "precip_t = list()\n",
    "\n",
    "n = len(forecast['hourly']['data'])\n",
    "for i in range(n):\n",
    "    dttm.append(datetime.fromtimestamp(forecast['hourly']['data'][i]['time']))\n",
    "    temp.append(forecast['hourly']['data'][i]['temperature'])\n",
    "    cloud.append(forecast['hourly']['data'][i]['cloudCover'])\n",
    "    precip.append(forecast['hourly']['data'][i]['precipIntensity'])\n",
    "    precip_p.append(forecast['hourly']['data'][i]['precipProbability'])\n",
    "    try:\n",
    "        precip_t.append(forecast['hourly']['data'][i]['precipType'])\n",
    "    except:\n",
    "        precip_t.append('')"
   ]
  },
  {
   "cell_type": "code",
   "execution_count": 502,
   "metadata": {},
   "outputs": [],
   "source": [
    "sunrise = list()\n",
    "sunset = list()\n",
    "m = len(forecast['daily']['data'])\n",
    "for i in range(m):\n",
    "    sunrise.append(datetime.fromtimestamp(forecast['daily']['data'][i]['sunriseTime']))\n",
    "    sunset.append(datetime.fromtimestamp(forecast['daily']['data'][i]['sunsetTime']))"
   ]
  },
  {
   "cell_type": "code",
   "execution_count": 503,
   "metadata": {},
   "outputs": [
    {
     "data": {
      "image/png": "[encoded data removed]",
      "text/plain": [
       "<matplotlib.figure.Figure at 0x247e898a978>"
      ]
     },
     "metadata": {},
     "output_type": "display_data"
    }
   ],
   "source": [
    "locale.setlocale(locale.LC_ALL, \"Polish\")\n",
    "\n",
    "dttm_min = min(dttm)\n",
    "dttm_max = max(dttm)\n",
    "dttm_width = 1/24\n",
    "\n",
    "temp_min = min(temp)\n",
    "temp_max = max(temp)\n",
    "temp_base = temp_min-2\n",
    "\n",
    "scale_factor = (temp_max - temp_min)/8\n",
    "\n",
    "norm_temp = Normalize(vmin=temp_min, vmax=temp_max, clip=True)\n",
    "mapper_temp = cm.ScalarMappable(norm=norm_temp, cmap=cm.viridis) #coolwarm\n",
    "\n",
    "plt.style.use('dark_background')\n",
    "\n",
    "fig, ax = plt.subplots(1)\n",
    "\n",
    "for s1,s2 in zip(sunrise, sunset):\n",
    "    rect_daylight = patches.Rectangle((s1,temp_base), (s2-s1).total_seconds()/(60*60*24), temp_max+4-temp_base, \n",
    "                                      edgecolor='none', facecolor='yellow', alpha = 0.1)\n",
    "    ax.add_patch(rect_daylight)\n",
    "    \n",
    "    rect_daylight_ext = patches.Rectangle((s1-timedelta(hours=0.5),temp_base), (s2-s1+timedelta(hours=1)).total_seconds()/(60*60*24), temp_max+4-temp_base, \n",
    "                                      edgecolor='none', facecolor='yellow', alpha = 0.1)\n",
    "    ax.add_patch(rect_daylight_ext)\n",
    "\n",
    "for x,t,c,p,pp,pt in zip(dttm, temp, cloud, precip, precip_p, precip_t):\n",
    "    rect_temp = patches.Rectangle((x,temp_base), dttm_width, t-temp_base, edgecolor='none', \n",
    "                                  facecolor=mapper_temp.to_rgba(t))\n",
    "    ax.add_patch(rect_temp)\n",
    "    \n",
    "    if t < (temp_max+temp_min)/2 :\n",
    "        cl = 'white'\n",
    "    else:\n",
    "        cl = 'black'\n",
    "    \n",
    "    ax.text(x+timedelta(hours=0.5), t-0.1, str(round(t)), horizontalalignment='center', \n",
    "            verticalalignment='top', color = cl)\n",
    "    c = c * scale_factor\n",
    "    rect_cloud= patches.Rectangle((x,temp_max+3-c), dttm_width, c*2, edgecolor='none', facecolor='w')\n",
    "    ax.add_patch(rect_cloud)\n",
    "    \n",
    "    pp = pp**0.2\n",
    "    if pt == \"rain\":\n",
    "        col = \"aqua\"\n",
    "    elif pt == \"snow\":\n",
    "        col = \"snow\"\n",
    "    else: \n",
    "        col = \"red\"\n",
    "    \n",
    "    rect_precip= patches.Rectangle((x,temp_base), dttm_width, p*scale_factor*10, edgecolor='none', \n",
    "                                   facecolor=col, alpha = pp)\n",
    "    ax.add_patch(rect_precip)\n",
    "    \n",
    "ax.xaxis.set_major_locator(mdates.DayLocator())\n",
    "ax.xaxis.set_major_formatter(mdates.DateFormatter('\\n%d-%m-%Y %A'))\n",
    "ax.xaxis.set_minor_locator(mdates.HourLocator(interval=3))\n",
    "ax.xaxis.set_minor_formatter(mdates.DateFormatter('%H:%M'))\n",
    "ax.grid(axis='x', linestyle='--')\n",
    "\n",
    "ax.set_xlim([dttm_min-timedelta(hours=0), dttm_max+timedelta(hours=1)])\n",
    "ax.set_ylim([temp_min-2, temp_max+4])\n",
    "\n",
    "ax.get_yaxis().set_visible(False)\n",
    "ax.spines['top'].set_visible(False)\n",
    "ax.spines['right'].set_visible(False)\n",
    "#ax.spines['bottom'].set_visible(False)\n",
    "ax.spines['left'].set_visible(False)\n",
    "\n",
    "plt.show()"
   ]
  }
 ],
 "metadata": {
  "kernelspec": {
   "display_name": "Python 3",
   "language": "python",
   "name": "python3"
  },
  "language_info": {
   "codemirror_mode": {
    "name": "ipython",
    "version": 3
   },
   "file_extension": ".py",
   "mimetype": "text/x-python",
   "name": "python",
   "nbconvert_exporter": "python",
   "pygments_lexer": "ipython3",
   "version": "3.6.4"
  }
 },
 "nbformat": 4,
 "nbformat_minor": 2
}
